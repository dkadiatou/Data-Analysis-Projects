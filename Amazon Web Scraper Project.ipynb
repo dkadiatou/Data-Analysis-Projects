{
 "cells": [
  {
   "cell_type": "code",
   "execution_count": 57,
   "id": "64db5db0",
   "metadata": {},
   "outputs": [],
   "source": [
    "# import libraries\n",
    "\n",
    "from bs4 import BeautifulSoup\n",
    "import requests\n",
    "import smtplib\n",
    "import time\n",
    "import datetime\n",
    "import pandas as pd\n",
    "import csv\n",
    "\n",
    "\n"
   ]
  },
  {
   "cell_type": "code",
   "execution_count": 30,
   "id": "965481f0",
   "metadata": {},
   "outputs": [
    {
     "name": "stdout",
     "output_type": "stream",
     "text": [
      "\n",
      "                Amazon Essentials Women's Classic-Fit Short-Sleeve V-Neck T-Shirt, Multipacks\n",
      "               \n"
     ]
    }
   ],
   "source": [
    "# connect to website\n",
    "\n",
    "URL = 'https://www.amazon.com/Amazon-Essentials-Classic-Fit-Short-Sleeve-T-Shirt/dp/B0775WTRR4/ref=sr_1_1_sspa?crid=310OM9WHPOWS7&keywords=tshirts+shirts+for+women&qid=1678394661&sprefix=tshirt%2Caps%2C85&sr=8-1-spons&psc=1&spLa=ZW5jcnlwdGVkUXVhbGlmaWVyPUEzRUdWOUE4MFVHOTdWJmVuY3J5cHRlZElkPUEwNzg1MTk5VE5PVTBIVjlWV09FJmVuY3J5cHRlZEFkSWQ9QTAxOTU5MzFPUEZYS0MwMlE4VUomd2lkZ2V0TmFtZT1zcF9hdGYmYWN0aW9uPWNsaWNrUmVkaXJlY3QmZG9Ob3RMb2dDbGljaz10cnVl'\n",
    "    \n",
    "headers = {\"User-Agent\": \"Mozilla/5.0 (Windows NT 10.0; Win64; x64) AppleWebKit/537.36 (KHTML, like Gecko) Chrome/110.0.0.0 Safari/537.36\", \"Accept-Encoding\":\"gzip, deflate\", \"Accept\":\"text/html,application/xhtml+xml,application/xml;q=0.9,*/*;q=0.8\", \"DNT\":\"1\",\"Connection\":\"close\", \"Upgrade-Insecure-Requests\":\"1\"}\n",
    "    \n",
    "page = requests.get(URL, headers=headers)\n",
    "\n",
    "soup1 = BeautifulSoup(page.content, \"html.parser\")\n",
    "\n",
    "soup2 = BeautifulSoup(soup1.prettify(), \"html.parser\")\n",
    "\n",
    "title = soup2.find(id='productTitle').get_text()\n",
    "\n",
    "#price = soup2.find(id='a-price').get_text() #ne fonctionne pas, je ne trouve pas l'ID sur le site Amazon\n",
    "\n",
    "#CutReview = soup2.find(id='acrCustomerReviewText').get_text()\n",
    "\n",
    "\n",
    "print(title)\n",
    "#print(price)\n",
    "    \n",
    "    \n",
    "    "
   ]
  },
  {
   "cell_type": "code",
   "execution_count": 37,
   "id": "0f491fcd",
   "metadata": {},
   "outputs": [
    {
     "name": "stdout",
     "output_type": "stream",
     "text": [
      "Amazon Essentials Women's Classic-Fit Short-Sleeve V-Neck T-Shirt, Multipacks\n",
      "16\n"
     ]
    }
   ],
   "source": [
    "# strip() permet de mettre les donnees propres\n",
    "# On assigne les informations aux variables\n",
    "\n",
    "title = title.strip()\n",
    "price = 16 # Ajout du prix manuellement (peut etre fait en trouvant l'ID du prix sur Amazon)\n",
    "\n",
    "print(title)\n",
    "print(price)"
   ]
  },
  {
   "cell_type": "code",
   "execution_count": 35,
   "id": "ca48858e",
   "metadata": {},
   "outputs": [
    {
     "name": "stdout",
     "output_type": "stream",
     "text": [
      "2023-03-09\n"
     ]
    }
   ],
   "source": [
    "# Add the date you get the data from amazon\n",
    "\n",
    "today = datetime.date.today()\n",
    "\n",
    "print(today)"
   ]
  },
  {
   "cell_type": "code",
   "execution_count": 39,
   "id": "8ebaf9cb",
   "metadata": {},
   "outputs": [],
   "source": [
    "# Initiate a CSV file to store the data in \n",
    "\n",
    "import csv\n",
    "\n",
    "header = ['ProductTitle', 'Price', 'Date']\n",
    "data = [title, price, today]\n",
    "\n",
    "\n",
    "with open('AmazonWebScraperDataset.csv', 'w', newline = '', encoding = 'UTF8') as f:\n",
    "    #writer = csv.writer(f)\n",
    "    #writer.writerow(header)\n",
    "    #writer.writerow(data)"
   ]
  },
  {
   "cell_type": "code",
   "execution_count": 34,
   "id": "7dab37f5",
   "metadata": {},
   "outputs": [
    {
     "name": "stdout",
     "output_type": "stream",
     "text": [
      "2023-03-09\n"
     ]
    }
   ],
   "source": [
    "today = datetime.date.today()\n",
    "print(today)"
   ]
  },
  {
   "cell_type": "code",
   "execution_count": 48,
   "id": "b8020ea7",
   "metadata": {},
   "outputs": [
    {
     "name": "stdout",
     "output_type": "stream",
     "text": [
      "                                        ProductTitle  Price        Date\n",
      "0  Amazon Essentials Women's Classic-Fit Short-Sl...     16  2023-03-09\n",
      "1  Amazon Essentials Women's Classic-Fit Short-Sl...     16  2023-03-09\n",
      "2  Amazon Essentials Women's Classic-Fit Short-Sl...     16  2023-03-09\n",
      "3  Amazon Essentials Women's Classic-Fit Short-Sl...     16  2023-03-09\n",
      "4  Amazon Essentials Women's Classic-Fit Short-Sl...     16  2023-03-09\n",
      "5  Amazon Essentials Women's Classic-Fit Short-Sl...     16  2023-03-09\n"
     ]
    }
   ],
   "source": [
    "# Look at the data without opening the csv\n",
    "\n",
    "df = pd.read_csv(r\"C:\\Users\\Kadiatou\\AmazonWebScraperDataset.csv\")\n",
    "\n",
    "print(df)"
   ]
  },
  {
   "cell_type": "code",
   "execution_count": 47,
   "id": "a55703cf",
   "metadata": {},
   "outputs": [],
   "source": [
    "# Now we need to append data to the existing data in the csv file\n",
    "\n",
    "with open('AmazonWebScraperDataset.csv', 'a+', newline = '', encoding = 'UTF8') as f:\n",
    "    writer = csv.writer(f)\n",
    "    writer.writerow(data)\n",
    "\n",
    "\n",
    "\n"
   ]
  },
  {
   "cell_type": "code",
   "execution_count": 58,
   "id": "25d86f2a",
   "metadata": {},
   "outputs": [],
   "source": [
    "\n",
    "def check_price():\n",
    "    URL = 'https://www.amazon.com/Amazon-Essentials-Classic-Fit-Short-Sleeve-T-Shirt/dp/B0775WTRR4/ref=sr_1_1_sspa?crid=310OM9WHPOWS7&keywords=tshirts+shirts+for+women&qid=1678394661&sprefix=tshirt%2Caps%2C85&sr=8-1-spons&psc=1&spLa=ZW5jcnlwdGVkUXVhbGlmaWVyPUEzRUdWOUE4MFVHOTdWJmVuY3J5cHRlZElkPUEwNzg1MTk5VE5PVTBIVjlWV09FJmVuY3J5cHRlZEFkSWQ9QTAxOTU5MzFPUEZYS0MwMlE4VUomd2lkZ2V0TmFtZT1zcF9hdGYmYWN0aW9uPWNsaWNrUmVkaXJlY3QmZG9Ob3RMb2dDbGljaz10cnVl'\n",
    "\n",
    "    headers = {\"User-Agent\": \"Mozilla/5.0 (Windows NT 10.0; Win64; x64) AppleWebKit/537.36 (KHTML, like Gecko) Chrome/110.0.0.0 Safari/537.36\", \"Accept-Encoding\":\"gzip, deflate\", \"Accept\":\"text/html,application/xhtml+xml,application/xml;q=0.9,*/*;q=0.8\", \"DNT\":\"1\",\"Connection\":\"close\", \"Upgrade-Insecure-Requests\":\"1\"}\n",
    "\n",
    "    page = requests.get(URL, headers=headers)\n",
    "\n",
    "    soup1 = BeautifulSoup(page.content, \"html.parser\")\n",
    "\n",
    "    soup2 = BeautifulSoup(soup1.prettify(), \"html.parser\")\n",
    "\n",
    "    title = soup2.find(id='productTitle').get_text()\n",
    "\n",
    "    #price = soup2.find(id='a-price').get_text() #ne fonctionne pas, je ne trouve pas l'ID sur le site Amazon\n",
    "\n",
    "    #CutReview = soup2.find(id='acrCustomerReviewText').get_text()\n",
    "    \n",
    "    title = title.strip()\n",
    "    price = 16 \n",
    "    today = datetime.date.today()\n",
    "    \n",
    "    header = ['ProductTitle', 'Price', 'Date']\n",
    "    data = [title, price, today]\n",
    "\n",
    "\n",
    "    with open('AmazonWebScraperDataset.csv', 'a+', newline = '', encoding = 'UTF8') as f:\n",
    "        writer = csv.writer(f)\n",
    "        writer.writerow(data)\n",
    "        "
   ]
  },
  {
   "cell_type": "code",
   "execution_count": 63,
   "id": "af3ff24d",
   "metadata": {},
   "outputs": [
    {
     "ename": "KeyboardInterrupt",
     "evalue": "",
     "output_type": "error",
     "traceback": [
      "\u001b[1;31m---------------------------------------------------------------------------\u001b[0m",
      "\u001b[1;31mKeyboardInterrupt\u001b[0m                         Traceback (most recent call last)",
      "Input \u001b[1;32mIn [63]\u001b[0m, in \u001b[0;36m<cell line: 2>\u001b[1;34m()\u001b[0m\n\u001b[0;32m      1\u001b[0m \u001b[38;5;28;01mwhile\u001b[39;00m(\u001b[38;5;28;01mTrue\u001b[39;00m):\n\u001b[0;32m      2\u001b[0m     check_price()\n\u001b[1;32m----> 3\u001b[0m     \u001b[43mtime\u001b[49m\u001b[38;5;241;43m.\u001b[39;49m\u001b[43msleep\u001b[49m\u001b[43m(\u001b[49m\u001b[38;5;241;43m2\u001b[39;49m\u001b[43m)\u001b[49m\n",
      "\u001b[1;31mKeyboardInterrupt\u001b[0m: "
     ]
    }
   ],
   "source": [
    "while(True):\n",
    "    check_price()\n",
    "    time.sleep(2)"
   ]
  },
  {
   "cell_type": "code",
   "execution_count": 64,
   "id": "e81b27b6",
   "metadata": {},
   "outputs": [
    {
     "name": "stdout",
     "output_type": "stream",
     "text": [
      "                                         ProductTitle  Price        Date\n",
      "0   Amazon Essentials Women's Classic-Fit Short-Sl...     16  2023-03-09\n",
      "1   Amazon Essentials Women's Classic-Fit Short-Sl...     16  2023-03-09\n",
      "2   Amazon Essentials Women's Classic-Fit Short-Sl...     16  2023-03-09\n",
      "3   Amazon Essentials Women's Classic-Fit Short-Sl...     16  2023-03-09\n",
      "4   Amazon Essentials Women's Classic-Fit Short-Sl...     16  2023-03-09\n",
      "5   Amazon Essentials Women's Classic-Fit Short-Sl...     16  2023-03-09\n",
      "6   Amazon Essentials Women's Classic-Fit Short-Sl...     16  2023-03-09\n",
      "7   Amazon Essentials Women's Classic-Fit Short-Sl...     16  2023-03-09\n",
      "8   Amazon Essentials Women's Classic-Fit Short-Sl...     16  2023-03-09\n",
      "9   Amazon Essentials Women's Classic-Fit Short-Sl...     16  2023-03-09\n",
      "10  Amazon Essentials Women's Classic-Fit Short-Sl...     16  2023-03-09\n"
     ]
    }
   ],
   "source": [
    "# Look at the data without opening the csv\n",
    "\n",
    "df = pd.read_csv(r\"C:\\Users\\Kadiatou\\AmazonWebScraperDataset.csv\")\n",
    "\n",
    "print(df)"
   ]
  },
  {
   "cell_type": "code",
   "execution_count": null,
   "id": "f1b64934",
   "metadata": {},
   "outputs": [],
   "source": []
  },
  {
   "cell_type": "code",
   "execution_count": null,
   "id": "a63321a0",
   "metadata": {},
   "outputs": [],
   "source": []
  },
  {
   "cell_type": "code",
   "execution_count": null,
   "id": "1f3c3894",
   "metadata": {},
   "outputs": [],
   "source": []
  },
  {
   "cell_type": "code",
   "execution_count": null,
   "id": "015d0ac2",
   "metadata": {},
   "outputs": [],
   "source": []
  },
  {
   "cell_type": "code",
   "execution_count": null,
   "id": "4593e09d",
   "metadata": {},
   "outputs": [],
   "source": []
  },
  {
   "cell_type": "code",
   "execution_count": null,
   "id": "37a36b16",
   "metadata": {},
   "outputs": [],
   "source": []
  },
  {
   "cell_type": "code",
   "execution_count": null,
   "id": "a9cb4ef8",
   "metadata": {},
   "outputs": [],
   "source": []
  },
  {
   "cell_type": "code",
   "execution_count": null,
   "id": "b2d7606a",
   "metadata": {},
   "outputs": [],
   "source": []
  },
  {
   "cell_type": "code",
   "execution_count": null,
   "id": "4670848a",
   "metadata": {},
   "outputs": [],
   "source": []
  },
  {
   "cell_type": "code",
   "execution_count": null,
   "id": "c871990e",
   "metadata": {},
   "outputs": [],
   "source": []
  },
  {
   "cell_type": "code",
   "execution_count": null,
   "id": "456a98fd",
   "metadata": {},
   "outputs": [],
   "source": []
  },
  {
   "cell_type": "code",
   "execution_count": null,
   "id": "486baa52",
   "metadata": {},
   "outputs": [],
   "source": []
  },
  {
   "cell_type": "code",
   "execution_count": null,
   "id": "72f94d01",
   "metadata": {},
   "outputs": [],
   "source": []
  },
  {
   "cell_type": "code",
   "execution_count": null,
   "id": "fd63eb9c",
   "metadata": {},
   "outputs": [],
   "source": []
  },
  {
   "cell_type": "code",
   "execution_count": null,
   "id": "2b0f2a9a",
   "metadata": {},
   "outputs": [],
   "source": []
  }
 ],
 "metadata": {
  "kernelspec": {
   "display_name": "Python 3 (ipykernel)",
   "language": "python",
   "name": "python3"
  },
  "language_info": {
   "codemirror_mode": {
    "name": "ipython",
    "version": 3
   },
   "file_extension": ".py",
   "mimetype": "text/x-python",
   "name": "python",
   "nbconvert_exporter": "python",
   "pygments_lexer": "ipython3",
   "version": "3.9.12"
  }
 },
 "nbformat": 4,
 "nbformat_minor": 5
}
